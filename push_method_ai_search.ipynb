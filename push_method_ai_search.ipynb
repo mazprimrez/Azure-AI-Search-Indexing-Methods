{
 "cells": [
  {
   "cell_type": "markdown",
   "metadata": {},
   "source": [
    "# Azure AI Search: vector search, step by step using Push Method"
   ]
  },
  {
   "cell_type": "code",
   "execution_count": 1,
   "metadata": {},
   "outputs": [],
   "source": [
    "import os\n",
    "\n",
    "import dotenv\n",
    "from azure.search.documents.indexes import SearchIndexClient\n",
    "from azure.core.credentials import AzureKeyCredential\n",
    "\n",
    "dotenv.load_dotenv()\n",
    "\n",
    "AZURE_SEARCH_SERVICE = os.getenv(\"AZURE_SEARCH_SERVICE\")\n",
    "AZURE_SEARCH_ENDPOINT = f\"https://{AZURE_SEARCH_SERVICE}.search.windows.net\"\n",
    "AZURE_SEARCH_KEY = os.getenv(\"AZURE_SEARCH_ADMIN_KEY\")\n",
    "\n",
    "blob_container_name = os.getenv(\"BLOB_CONTAINER_NAME\", \"int-vec\")\n",
    "azure_openai_endpoint = os.getenv(\"AZURE_OPENAI_ENDPOINT\")\n",
    "azure_openai_key = os.getenv(\"AZURE_OPENAI_KEY\")\n",
    "azure_openai_model_name = os.getenv(\"AZURE_OPENAI_EMBEDDING_MODEL_NAME\")\n",
    "azure_openai_model_dimensions = int(os.getenv(\"AZURE_OPENAI_EMBEDDING_DIMENSIONS\"))\n",
    "azure_storage_connection_string = os.getenv(\"AZURE_STORAGE_CONNECTION_STRING\")\n",
    "azure_ai_service_key = os.getenv(\"AI_SERVICE_KEY\")\n",
    "\n",
    "azure_credential = AzureKeyCredential(AZURE_SEARCH_KEY)\n",
    "index_client = SearchIndexClient(endpoint=AZURE_SEARCH_ENDPOINT, credential=azure_credential)"
   ]
  },
  {
   "cell_type": "markdown",
   "metadata": {},
   "source": [
    "## Create Index"
   ]
  },
  {
   "cell_type": "code",
   "execution_count": 17,
   "metadata": {},
   "outputs": [
    {
     "name": "stdout",
     "output_type": "stream",
     "text": [
      "index-name-push-method created\n"
     ]
    }
   ],
   "source": [
    "from azure.search.documents.indexes.models import (\n",
    "    SearchField,\n",
    "    SearchFieldDataType,\n",
    "    VectorSearch,\n",
    "    HnswAlgorithmConfiguration,\n",
    "    VectorSearchProfile,\n",
    "    AzureOpenAIVectorizer,\n",
    "    AzureOpenAIParameters,\n",
    "    SemanticConfiguration,\n",
    "    SemanticSearch,\n",
    "    SemanticPrioritizedFields,\n",
    "    SemanticField,\n",
    "    SearchIndex,\n",
    "    VectorSearchAlgorithmKind,\n",
    "    HnswParameters\n",
    ")\n",
    "\n",
    "index_name = \"index-name-push-method\"\n",
    "# Create a search index  \n",
    "fields = [  \n",
    "    SearchField(name=\"chunk_id\", type=SearchFieldDataType.String, retrievable=True, searchable=True, sortable=True, filterable=True, facetable=True, key=True, analyzer_name='keyword'),  \n",
    "    SearchField(name=\"parent_id\", type=SearchFieldDataType.String, retrievable=True, searchable=False, sortable=True, filterable=True, facetable=True),  \n",
    "    SearchField(name=\"content\", type=SearchFieldDataType.String, retrievable=True, searchable=True, index_analyzer_name=\"keyword\", search_analyzer_name=\"standard\"),  \n",
    "    SearchField(name=\"title\", type=SearchFieldDataType.String, retrievable=True, filterable=True, searchable=True, index_analyzer_name=\"keyword\", search_analyzer_name=\"standard\"),  \n",
    "    SearchField(name=\"url\", type=SearchFieldDataType.String, retrievable=True, searchable=False),  \n",
    "    SearchField(name=\"text_vector\", type=SearchFieldDataType.Collection(SearchFieldDataType.Single), vector_search_dimensions=azure_openai_model_dimensions, vector_search_profile_name=\"myHnswProfile\", searchable=True),  \n",
    "]  \n",
    "  \n",
    "# Configure the vector search configuration  \n",
    "vector_search = VectorSearch(  \n",
    "    algorithms=[  \n",
    "        HnswAlgorithmConfiguration(name=\"myHnsw\", \n",
    "                                   kind=VectorSearchAlgorithmKind.HNSW, \n",
    "                                   parameters=HnswParameters(metric=\"cosine\")),\n",
    "    ],  \n",
    "    profiles=[  \n",
    "        VectorSearchProfile(  \n",
    "            name=\"myHnswProfile\",  \n",
    "            algorithm_configuration_name=\"myHnsw\",  \n",
    "            vectorizer=\"myOpenAI\",  \n",
    "        )\n",
    "    ],  \n",
    "    vectorizers=[  \n",
    "        AzureOpenAIVectorizer(  \n",
    "            name=\"myOpenAI\",  \n",
    "            kind=\"azureOpenAI\",  \n",
    "            azure_open_ai_parameters=AzureOpenAIParameters(  \n",
    "                resource_uri=azure_openai_endpoint,  \n",
    "                model_name=azure_openai_model_name,\n",
    "                deployment_id=azure_openai_model_name,\n",
    "                api_key=azure_openai_key,\n",
    "            ),\n",
    "        ),  \n",
    "    ],  \n",
    ")  \n",
    "  \n",
    "semantic_config = SemanticConfiguration(  \n",
    "    name=\"my-semantic-config\",  \n",
    "    prioritized_fields=SemanticPrioritizedFields(  \n",
    "        content_fields=[SemanticField(field_name=\"content\")]  \n",
    "    ),  \n",
    ")\n",
    "  \n",
    "# Create the semantic search with the configuration  \n",
    "semantic_search = SemanticSearch(configurations=[semantic_config])  \n",
    "  \n",
    "# Create the search index\n",
    "index = SearchIndex(name=index_name, fields=fields, vector_search=vector_search, semantic_search=semantic_search)  \n",
    "result = index_client.create_or_update_index(index)  \n",
    "print(f\"{result.name} created\")  "
   ]
  },
  {
   "cell_type": "markdown",
   "metadata": {},
   "source": [
    "## Data Preparation using Docs Intelligence"
   ]
  },
  {
   "cell_type": "code",
   "execution_count": 2,
   "metadata": {},
   "outputs": [],
   "source": [
    "from azure.core.credentials import AzureKeyCredential\n",
    "from azure.ai.documentintelligence import DocumentIntelligenceClient\n",
    "from azure.ai.documentintelligence.models import ContentFormat, AnalyzeResult\n",
    "import base64 \n",
    "\n",
    "\"\"\"\n",
    "Remember to remove the key from your code when you're done, and never post it publicly. For production, use\n",
    "secure methods to store and access your credentials. For more information, see \n",
    "https://docs.microsoft.com/en-us/azure/cognitive-services/cognitive-services-security?tabs=command-line%2Ccsharp#environment-variables-and-application-configuration\n",
    "\"\"\"\n",
    "doc_int_endpoint = os.getenv(\"DOC_INT_ENDPOINT\")\n",
    "doc_int_key = os.getenv(\"DOC_INT_API_KEY\")"
   ]
  },
  {
   "cell_type": "code",
   "execution_count": 4,
   "metadata": {},
   "outputs": [],
   "source": [
    "def analyze_layout_local_file(file_path):     \n",
    "    with open(file_path, \"rb\") as f:\n",
    "        base64_encoded_pdf = base64.b64encode(f.read()).decode(\"utf-8\")\n",
    "\n",
    "    analyze_request = {\n",
    "        \"base64Source\": base64_encoded_pdf\n",
    "    }\n",
    "\n",
    "    document_intelligence_client = DocumentIntelligenceClient(\n",
    "        endpoint=doc_int_endpoint, credential=AzureKeyCredential(doc_int_key)\n",
    "    )\n",
    "\n",
    "    poller = document_intelligence_client.begin_analyze_document(\n",
    "        \"prebuilt-layout\", analyze_request=analyze_request,\n",
    "         output_content_format=ContentFormat.MARKDOWN,\n",
    "    )\n",
    "\n",
    "    result = poller.result()\n",
    "    return result"
   ]
  },
  {
   "cell_type": "code",
   "execution_count": 5,
   "metadata": {},
   "outputs": [],
   "source": [
    "def save_to_markdown(content, output_file_path):\n",
    "    \"\"\"\n",
    "    Saves the structured content to a Markdown file.\n",
    "    \"\"\"\n",
    "    with open(output_file_path, 'w', encoding='utf-8') as f:\n",
    "        for line in content:\n",
    "            f.write(line)"
   ]
  },
  {
   "cell_type": "code",
   "execution_count": 6,
   "metadata": {},
   "outputs": [],
   "source": [
    "result = analyze_layout_local_file(\"Credit_Card_Benefits_Table.pdf\")"
   ]
  },
  {
   "cell_type": "code",
   "execution_count": 10,
   "metadata": {},
   "outputs": [
    {
     "data": {
      "text/plain": [
       "'Travel Credit Card\\n===\\n\\n| Judul | Credit Card Types |||\\n|| Gold | Premium | Standard |\\n| - | - | - | - |\\n| Benefits - | 1x point setiap transaksi Rp30.000 di merchant partner | 2x point setiap transaksi Rp50.000 di merchant partner | · Tidak mendapatkan point · Mendapatkan diskon 5% setiap belanja minimal Rp500.000 di merchant partner · Khusus transaksi menggunakan QRIS mendapatkan potongan 7% |\\n| Syarat | · Minimal 21 tahun · Mnimal pendapatan Rp5juta | · Minimal 25 tahun · Pendapatan perbulan Rp20juta | · Minimal 17 tahun · Minimal pendapatan perbulan 3juta |\\n| Annual Fee | Rp.300.000/tahun | Rp.1000.000/tahun | Rp.200.000/tahun atau gratis dengan transaksi minimal 3 kali sebulan |\\n| Welcome Bonus | - | 1000 points | - |\\n| More Benefits | Travel benefits Bebas akses airport lounge di seluruh bandara di Indonesia Travel Insurance Gratis perlindungan asuransi perjalanan sd Rp1Miliar. | Travel benefits Bebas akses airport lounge di seluruh bandara di Indonesia dan luar negeri Travel Insurance Gratis perlindungan asuransi perjalanan sd Rp1Miliar. | - |\\n'"
      ]
     },
     "execution_count": 10,
     "metadata": {},
     "output_type": "execute_result"
    }
   ],
   "source": [
    "result.content"
   ]
  },
  {
   "cell_type": "markdown",
   "metadata": {},
   "source": [
    "## Data Prep for Indexing"
   ]
  },
  {
   "cell_type": "code",
   "execution_count": 13,
   "metadata": {},
   "outputs": [],
   "source": [
    "import uuid\n",
    "from openai import AzureOpenAI\n",
    "generated_index = str(uuid.uuid4())\n",
    "\n",
    "client = AzureOpenAI(azure_endpoint=os.getenv(\"AZURE_OPENAI_ENDPOINT\"),\n",
    "                     api_key=os.getenv(\"AZURE_OPENAI_KEY\"),\n",
    "                     api_version=\"2024-04-01-preview\")\n",
    "\n",
    "def embed(text):\n",
    "    return client.embeddings.create(\n",
    "        model=azure_openai_model_name,\n",
    "        input=text\n",
    "    ).data[0].embedding"
   ]
  },
  {
   "cell_type": "code",
   "execution_count": 14,
   "metadata": {},
   "outputs": [],
   "source": [
    "value = {\n",
    "    \"chunk_id\":generated_index+\"_page_1\",\n",
    "    \"parent_id\":generated_index,\n",
    "    \"content\":result.content,\n",
    "    \"title\":\"Credit_Card_Benefits_Table\",\n",
    "    \"url\":\"\",\n",
    "    \"text_vector\": embed(result.content),\n",
    "}"
   ]
  },
  {
   "cell_type": "markdown",
   "metadata": {},
   "source": [
    "## Push to AI Search"
   ]
  },
  {
   "cell_type": "code",
   "execution_count": 18,
   "metadata": {},
   "outputs": [
    {
     "name": "stdout",
     "output_type": "stream",
     "text": [
      "Upload of new document succeeded: True\n"
     ]
    }
   ],
   "source": [
    "from azure.search.documents import SearchClient\n",
    "\n",
    "# Upload documents to the index\n",
    "search_client = SearchClient(endpoint=AZURE_SEARCH_ENDPOINT,\n",
    "                      index_name=index_name,\n",
    "                      credential=azure_credential)\n",
    "try:\n",
    "    result = search_client.upload_documents(documents=value)\n",
    "    print(\"Upload of new document succeeded: {}\".format(result[0].succeeded))\n",
    "except Exception as ex:\n",
    "    print (ex.message)\n"
   ]
  },
  {
   "cell_type": "code",
   "execution_count": null,
   "metadata": {},
   "outputs": [],
   "source": []
  }
 ],
 "metadata": {
  "kernelspec": {
   "display_name": "learn-azure",
   "language": "python",
   "name": "python3"
  },
  "language_info": {
   "codemirror_mode": {
    "name": "ipython",
    "version": 3
   },
   "file_extension": ".py",
   "mimetype": "text/x-python",
   "name": "python",
   "nbconvert_exporter": "python",
   "pygments_lexer": "ipython3",
   "version": "3.10.14"
  }
 },
 "nbformat": 4,
 "nbformat_minor": 2
}
